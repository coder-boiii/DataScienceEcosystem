{
 "cells": [
  {
   "cell_type": "markdown",
   "id": "f14a57aa",
   "metadata": {},
   "source": [
    "# Data Science Tools and Ecosystem"
   ]
  },
  {
   "cell_type": "markdown",
   "id": "8575166b",
   "metadata": {},
   "source": [
    "In this notebook, Data Science Tools and Ecosystem are summarized."
   ]
  },
  {
   "cell_type": "markdown",
   "id": "35b9840d",
   "metadata": {},
   "source": [
    "**Objectives:**\n",
    "* List popular languages for Data Science\n",
    "* List commonly used Libraries by Data Science\n",
    "* Tabulate Tools for Data Science\n",
    "* List examples of evaluating arithmetic expressions in Python\n",
    "    * a simple arithmetic expression to mutiply then add integers\n",
    "    * convert 200 minutes to hours by diving by 60\n"
   ]
  },
  {
   "cell_type": "markdown",
   "id": "a21a2e75",
   "metadata": {},
   "source": [
    "Some of the popular languages that Data Scientists use are:\n",
    "1. SQL\n",
    "2. R\n",
    "3. Python"
   ]
  },
  {
   "cell_type": "markdown",
   "id": "75ae7673",
   "metadata": {},
   "source": [
    "Some of the commonly used libraries used by Data Scientists include:\n",
    "\n",
    "    1. Python Libraries\n",
    "        1.1. Scientific Computing Library\n",
    "            1.1.1. Pandas\n",
    "            1.1.2. Numpy\n",
    "        1.2. Visualization Library\n",
    "            1.2.1. Matplotlib\n",
    "            1.2.2. Seaborn\n",
    "        1.3. ML, DL Library\n",
    "            1.3.1. Scikit_learn\n",
    "            1.3.2. Keras\n",
    "            1.3.3. Apache Spark\n",
    "            1.3.4. Tensor Flow\n",
    "    2. Scala Libraries\n",
    "        2.1. VEGAS\n",
    "        2.2. Big DL\n",
    "    3. R Libraries\n",
    "        3.1. Ggplot\n",
    "        3.2. Keras\n",
    "        3.3. Tensor Flow\n",
    "        \n",
    "        "
   ]
  },
  {
   "cell_type": "code",
   "execution_count": 18,
   "id": "65075aa4",
   "metadata": {},
   "outputs": [
    {
     "data": {
      "text/html": [
       "<style>\n",
       "table{float:left}\n",
       "</style>\n"
      ],
      "text/plain": [
       "<IPython.core.display.HTML object>"
      ]
     },
     "metadata": {},
     "output_type": "display_data"
    }
   ],
   "source": [
    "%%html\n",
    "<style>\n",
    "table{float:left}\n",
    "</style>"
   ]
  },
  {
   "cell_type": "markdown",
   "id": "aff51ecf",
   "metadata": {},
   "source": [
    "| Data Science Tools | \n",
    "| :- | \n",
    "| Watson Studio | \n",
    "| Watson Open Scale |\n",
    "| H2O.ai |"
   ]
  },
  {
   "cell_type": "markdown",
   "id": "15fee6c3",
   "metadata": {},
   "source": [
    "### Below are a few examples of evaluating arithmetic expressions in Python"
   ]
  },
  {
   "cell_type": "code",
   "execution_count": 19,
   "id": "e3794858",
   "metadata": {},
   "outputs": [
    {
     "data": {
      "text/plain": [
       "17"
      ]
     },
     "execution_count": 19,
     "metadata": {},
     "output_type": "execute_result"
    }
   ],
   "source": [
    "# This a simple arithmetic expression to mutiply then add integers\n",
    "(3*4)+5"
   ]
  },
  {
   "cell_type": "code",
   "execution_count": 3,
   "id": "3c777d6a",
   "metadata": {},
   "outputs": [
    {
     "data": {
      "text/plain": [
       "3.3333333333333335"
      ]
     },
     "execution_count": 3,
     "metadata": {},
     "output_type": "execute_result"
    }
   ],
   "source": [
    "# This will convert 200 minutes to hours by diving by 60\n",
    "200/60"
   ]
  },
  {
   "cell_type": "markdown",
   "id": "d9bb0447",
   "metadata": {},
   "source": [
    "## Author\n",
    "Rahul Nadar"
   ]
  }
 ],
 "metadata": {
  "kernelspec": {
   "display_name": "Python 3 (ipykernel)",
   "language": "python",
   "name": "python3"
  },
  "language_info": {
   "codemirror_mode": {
    "name": "ipython",
    "version": 3
   },
   "file_extension": ".py",
   "mimetype": "text/x-python",
   "name": "python",
   "nbconvert_exporter": "python",
   "pygments_lexer": "ipython3",
   "version": "3.11.3"
  }
 },
 "nbformat": 4,
 "nbformat_minor": 5
}
