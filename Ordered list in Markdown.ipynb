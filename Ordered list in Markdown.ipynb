{
 "cells": [
  {
   "cell_type": "markdown",
   "id": "3f1d683b",
   "metadata": {},
   "source": [
    "    1. hello\n",
    "        1.1 hello\n",
    "        1.2 hello\n",
    "            1.2.1. hello\n",
    "    2. hello\n",
    "        2.1. hello\n",
    "        2.1.1. hello"
   ]
  },
  {
   "cell_type": "code",
   "execution_count": null,
   "id": "451fecc0",
   "metadata": {},
   "outputs": [],
   "source": []
  }
 ],
 "metadata": {
  "kernelspec": {
   "display_name": "Python 3 (ipykernel)",
   "language": "python",
   "name": "python3"
  },
  "language_info": {
   "codemirror_mode": {
    "name": "ipython",
    "version": 3
   },
   "file_extension": ".py",
   "mimetype": "text/x-python",
   "name": "python",
   "nbconvert_exporter": "python",
   "pygments_lexer": "ipython3",
   "version": "3.11.3"
  }
 },
 "nbformat": 4,
 "nbformat_minor": 5
}
